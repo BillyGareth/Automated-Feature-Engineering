{
 "cells": [
  {
   "cell_type": "code",
   "execution_count": 1,
   "metadata": {},
   "outputs": [],
   "source": [
    "import featuretools as ft\n",
    "import pandas as pd\n",
    "import numpy as np"
   ]
  },
  {
   "cell_type": "code",
   "execution_count": 2,
   "metadata": {},
   "outputs": [],
   "source": [
    "train=pd.read_csv('train_kOBLwZA.csv')"
   ]
  },
  {
   "cell_type": "code",
   "execution_count": 3,
   "metadata": {},
   "outputs": [],
   "source": [
    "test=pd.read_csv('test_t02dQwI.csv')"
   ]
  },
  {
   "cell_type": "code",
   "execution_count": 4,
   "metadata": {},
   "outputs": [],
   "source": [
    "test_Item_Identifier=test['Item_Identifier']\n",
    "test_Outlet_Identifier=test['Outlet_Identifier']\n",
    "sales=train['Item_Outlet_Sales']\n",
    "train.drop('Item_Outlet_Sales',axis=1,inplace=True)"
   ]
  },
  {
   "cell_type": "code",
   "execution_count": 5,
   "metadata": {},
   "outputs": [],
   "source": [
    "combi=train.append(test,ignore_index=True)"
   ]
  },
  {
   "cell_type": "code",
   "execution_count": 6,
   "metadata": {},
   "outputs": [
    {
     "data": {
      "text/plain": [
       "Item_Identifier                 0\n",
       "Item_Weight                  2439\n",
       "Item_Fat_Content                0\n",
       "Item_Visibility                 0\n",
       "Item_Type                       0\n",
       "Item_MRP                        0\n",
       "Outlet_Identifier               0\n",
       "Outlet_Establishment_Year       0\n",
       "Outlet_Size                  4016\n",
       "Outlet_Location_Type            0\n",
       "Outlet_Type                     0\n",
       "dtype: int64"
      ]
     },
     "execution_count": 6,
     "metadata": {},
     "output_type": "execute_result"
    }
   ],
   "source": [
    "combi.isnull().sum()"
   ]
  },
  {
   "cell_type": "code",
   "execution_count": 8,
   "metadata": {},
   "outputs": [],
   "source": [
    "#we add the missing data using 'fillna'\n",
    "\n",
    "combi['Item_Weight'].fillna(combi['Item_Weight'].mean(),inplace=True)\n",
    "combi['Outlet_Size'].fillna(\"missing\",inplace=True)"
   ]
  },
  {
   "cell_type": "code",
   "execution_count": 9,
   "metadata": {},
   "outputs": [
    {
     "data": {
      "text/plain": [
       "Low Fat    8485\n",
       "Regular    4824\n",
       "LF          522\n",
       "reg         195\n",
       "low fat     178\n",
       "Name: Item_Fat_Content, dtype: int64"
      ]
     },
     "execution_count": 9,
     "metadata": {},
     "output_type": "execute_result"
    }
   ],
   "source": [
    "#now into data preprocessing operations\n",
    "\n",
    "combi['Item_Fat_Content'].value_counts()"
   ]
  },
  {
   "cell_type": "code",
   "execution_count": 10,
   "metadata": {},
   "outputs": [],
   "source": [
    "#convert to binary since there are only two types\n",
    "\n",
    "fat_content_dict={'Low Fat':0,'Regular':1,'LF':0,'reg':1,'low fat':0}"
   ]
  },
  {
   "cell_type": "code",
   "execution_count": 11,
   "metadata": {},
   "outputs": [],
   "source": [
    "combi['Item_Fat_Content']=combi['Item_Fat_Content'].replace(fat_content_dict,regex=True)"
   ]
  },
  {
   "cell_type": "code",
   "execution_count": 12,
   "metadata": {},
   "outputs": [],
   "source": [
    "combi['id']=combi['Item_Identifier']+combi['Outlet_Identifier']\n",
    "combi.drop(['Item_Identifier'],axis=1,inplace=True)"
   ]
  },
  {
   "cell_type": "code",
   "execution_count": 13,
   "metadata": {},
   "outputs": [
    {
     "data": {
      "text/plain": [
       "Entityset: sales\n",
       "  Entities:\n",
       "    bigmart [Rows: 14204, Columns: 11]\n",
       "  Relationships:\n",
       "    No relationships"
      ]
     },
     "execution_count": 13,
     "metadata": {},
     "output_type": "execute_result"
    }
   ],
   "source": [
    "#now we go on and create an entityset that we will use\n",
    "\n",
    "es=ft.EntitySet(id='sales')\n",
    "\n",
    "#then proceed to add a dataframe\n",
    "es.entity_from_dataframe(entity_id='bigmart',dataframe=combi,index='id')"
   ]
  },
  {
   "cell_type": "code",
   "execution_count": 18,
   "metadata": {},
   "outputs": [
    {
     "name": "stdout",
     "output_type": "stream",
     "text": [
      "2020-02-16 13:24:41,012 featuretools.entityset - WARNING    Not adding duplicate relationship: <Relationship: bigmart.Outlet_Identifier -> outlet.Outlet_Identifier>\n"
     ]
    },
    {
     "data": {
      "text/plain": [
       "Entityset: sales\n",
       "  Entities:\n",
       "    bigmart [Rows: 14204, Columns: 7]\n",
       "    outlet [Rows: 10, Columns: 5]\n",
       "  Relationships:\n",
       "    bigmart.Outlet_Identifier -> outlet.Outlet_Identifier"
      ]
     },
     "execution_count": 18,
     "metadata": {},
     "output_type": "execute_result"
    }
   ],
   "source": [
    "es.normalize_entity(base_entity_id='bigmart',new_entity_id='outlet',index='Outlet_Identifier',\n",
    "                   additional_variables = ['Outlet_Establishment_Year', 'Outlet_Size', 'Outlet_Location_Type', 'Outlet_Type'])\n"
   ]
  },
  {
   "cell_type": "code",
   "execution_count": 20,
   "metadata": {},
   "outputs": [
    {
     "name": "stdout",
     "output_type": "stream",
     "text": [
      "Built 37 features\n",
      "EntitySet scattered to workers in 8.894 seconds\n",
      "Elapsed: 00:02 | Remaining: 00:00 | Progress: 100%|██████████| Calculated: 11/11 chunks\n"
     ]
    }
   ],
   "source": [
    "#now we use Deep Feature Synthesis which utilizes Feature Primitives \n",
    "\n",
    "feature_matrix,feature_names=ft.dfs(entityset=es,\n",
    "                                   target_entity='bigmart',\n",
    "                                    max_depth=2,\n",
    "                                   verbose=1,\n",
    "                                   n_jobs=3)"
   ]
  },
  {
   "cell_type": "code",
   "execution_count": 21,
   "metadata": {},
   "outputs": [
    {
     "data": {
      "text/plain": [
       "Index(['Item_Weight', 'Item_Fat_Content', 'Item_Visibility', 'Item_Type',\n",
       "       'Item_MRP', 'Outlet_Identifier', 'outlet.Outlet_Establishment_Year',\n",
       "       'outlet.Outlet_Size', 'outlet.Outlet_Location_Type',\n",
       "       'outlet.Outlet_Type', 'outlet.SUM(bigmart.Item_Weight)',\n",
       "       'outlet.SUM(bigmart.Item_Fat_Content)',\n",
       "       'outlet.SUM(bigmart.Item_Visibility)', 'outlet.SUM(bigmart.Item_MRP)',\n",
       "       'outlet.STD(bigmart.Item_Weight)',\n",
       "       'outlet.STD(bigmart.Item_Fat_Content)',\n",
       "       'outlet.STD(bigmart.Item_Visibility)', 'outlet.STD(bigmart.Item_MRP)',\n",
       "       'outlet.MAX(bigmart.Item_Weight)',\n",
       "       'outlet.MAX(bigmart.Item_Fat_Content)',\n",
       "       'outlet.MAX(bigmart.Item_Visibility)', 'outlet.MAX(bigmart.Item_MRP)',\n",
       "       'outlet.SKEW(bigmart.Item_Weight)',\n",
       "       'outlet.SKEW(bigmart.Item_Fat_Content)',\n",
       "       'outlet.SKEW(bigmart.Item_Visibility)', 'outlet.SKEW(bigmart.Item_MRP)',\n",
       "       'outlet.MIN(bigmart.Item_Weight)',\n",
       "       'outlet.MIN(bigmart.Item_Fat_Content)',\n",
       "       'outlet.MIN(bigmart.Item_Visibility)', 'outlet.MIN(bigmart.Item_MRP)',\n",
       "       'outlet.MEAN(bigmart.Item_Weight)',\n",
       "       'outlet.MEAN(bigmart.Item_Fat_Content)',\n",
       "       'outlet.MEAN(bigmart.Item_Visibility)', 'outlet.MEAN(bigmart.Item_MRP)',\n",
       "       'outlet.COUNT(bigmart)', 'outlet.NUM_UNIQUE(bigmart.Item_Type)',\n",
       "       'outlet.MODE(bigmart.Item_Type)'],\n",
       "      dtype='object')"
      ]
     },
     "execution_count": 21,
     "metadata": {},
     "output_type": "execute_result"
    }
   ],
   "source": [
    "#newly created features\n",
    "\n",
    "feature_matrix.columns"
   ]
  },
  {
   "cell_type": "code",
   "execution_count": 22,
   "metadata": {},
   "outputs": [
    {
     "data": {
      "text/html": [
       "<div>\n",
       "<style scoped>\n",
       "    .dataframe tbody tr th:only-of-type {\n",
       "        vertical-align: middle;\n",
       "    }\n",
       "\n",
       "    .dataframe tbody tr th {\n",
       "        vertical-align: top;\n",
       "    }\n",
       "\n",
       "    .dataframe thead th {\n",
       "        text-align: right;\n",
       "    }\n",
       "</style>\n",
       "<table border=\"1\" class=\"dataframe\">\n",
       "  <thead>\n",
       "    <tr style=\"text-align: right;\">\n",
       "      <th></th>\n",
       "      <th>Item_Weight</th>\n",
       "      <th>Item_Fat_Content</th>\n",
       "      <th>Item_Visibility</th>\n",
       "      <th>Item_Type</th>\n",
       "      <th>Item_MRP</th>\n",
       "      <th>Outlet_Identifier</th>\n",
       "      <th>outlet.Outlet_Establishment_Year</th>\n",
       "      <th>outlet.Outlet_Size</th>\n",
       "      <th>outlet.Outlet_Location_Type</th>\n",
       "      <th>outlet.Outlet_Type</th>\n",
       "      <th>...</th>\n",
       "      <th>outlet.MIN(bigmart.Item_Fat_Content)</th>\n",
       "      <th>outlet.MIN(bigmart.Item_Visibility)</th>\n",
       "      <th>outlet.MIN(bigmart.Item_MRP)</th>\n",
       "      <th>outlet.MEAN(bigmart.Item_Weight)</th>\n",
       "      <th>outlet.MEAN(bigmart.Item_Fat_Content)</th>\n",
       "      <th>outlet.MEAN(bigmart.Item_Visibility)</th>\n",
       "      <th>outlet.MEAN(bigmart.Item_MRP)</th>\n",
       "      <th>outlet.COUNT(bigmart)</th>\n",
       "      <th>outlet.NUM_UNIQUE(bigmart.Item_Type)</th>\n",
       "      <th>outlet.MODE(bigmart.Item_Type)</th>\n",
       "    </tr>\n",
       "    <tr>\n",
       "      <th>id</th>\n",
       "      <th></th>\n",
       "      <th></th>\n",
       "      <th></th>\n",
       "      <th></th>\n",
       "      <th></th>\n",
       "      <th></th>\n",
       "      <th></th>\n",
       "      <th></th>\n",
       "      <th></th>\n",
       "      <th></th>\n",
       "      <th></th>\n",
       "      <th></th>\n",
       "      <th></th>\n",
       "      <th></th>\n",
       "      <th></th>\n",
       "      <th></th>\n",
       "      <th></th>\n",
       "      <th></th>\n",
       "      <th></th>\n",
       "      <th></th>\n",
       "      <th></th>\n",
       "    </tr>\n",
       "  </thead>\n",
       "  <tbody>\n",
       "    <tr>\n",
       "      <td>DRA12OUT010</td>\n",
       "      <td>11.600000</td>\n",
       "      <td>0</td>\n",
       "      <td>0.068535</td>\n",
       "      <td>Soft Drinks</td>\n",
       "      <td>143.0154</td>\n",
       "      <td>OUT010</td>\n",
       "      <td>1998</td>\n",
       "      <td>missing</td>\n",
       "      <td>Tier 3</td>\n",
       "      <td>Grocery Store</td>\n",
       "      <td>...</td>\n",
       "      <td>0</td>\n",
       "      <td>0.0</td>\n",
       "      <td>32.6558</td>\n",
       "      <td>12.722870</td>\n",
       "      <td>0.356757</td>\n",
       "      <td>0.101939</td>\n",
       "      <td>141.159742</td>\n",
       "      <td>925</td>\n",
       "      <td>16</td>\n",
       "      <td>Fruits and Vegetables</td>\n",
       "    </tr>\n",
       "    <tr>\n",
       "      <td>DRA12OUT013</td>\n",
       "      <td>11.600000</td>\n",
       "      <td>0</td>\n",
       "      <td>0.040912</td>\n",
       "      <td>Soft Drinks</td>\n",
       "      <td>142.3154</td>\n",
       "      <td>OUT013</td>\n",
       "      <td>1987</td>\n",
       "      <td>High</td>\n",
       "      <td>Tier 3</td>\n",
       "      <td>Supermarket Type1</td>\n",
       "      <td>...</td>\n",
       "      <td>0</td>\n",
       "      <td>0.0</td>\n",
       "      <td>31.4900</td>\n",
       "      <td>12.788139</td>\n",
       "      <td>0.353509</td>\n",
       "      <td>0.060242</td>\n",
       "      <td>141.128428</td>\n",
       "      <td>1553</td>\n",
       "      <td>16</td>\n",
       "      <td>Fruits and Vegetables</td>\n",
       "    </tr>\n",
       "    <tr>\n",
       "      <td>DRA12OUT017</td>\n",
       "      <td>11.600000</td>\n",
       "      <td>0</td>\n",
       "      <td>0.041178</td>\n",
       "      <td>Soft Drinks</td>\n",
       "      <td>140.3154</td>\n",
       "      <td>OUT017</td>\n",
       "      <td>2007</td>\n",
       "      <td>missing</td>\n",
       "      <td>Tier 2</td>\n",
       "      <td>Supermarket Type1</td>\n",
       "      <td>...</td>\n",
       "      <td>0</td>\n",
       "      <td>0.0</td>\n",
       "      <td>32.0900</td>\n",
       "      <td>12.782080</td>\n",
       "      <td>0.352560</td>\n",
       "      <td>0.061142</td>\n",
       "      <td>140.998931</td>\n",
       "      <td>1543</td>\n",
       "      <td>16</td>\n",
       "      <td>Snack Foods</td>\n",
       "    </tr>\n",
       "    <tr>\n",
       "      <td>DRA12OUT018</td>\n",
       "      <td>11.600000</td>\n",
       "      <td>0</td>\n",
       "      <td>0.041113</td>\n",
       "      <td>Soft Drinks</td>\n",
       "      <td>142.0154</td>\n",
       "      <td>OUT018</td>\n",
       "      <td>2009</td>\n",
       "      <td>Medium</td>\n",
       "      <td>Tier 3</td>\n",
       "      <td>Supermarket Type2</td>\n",
       "      <td>...</td>\n",
       "      <td>0</td>\n",
       "      <td>0.0</td>\n",
       "      <td>31.8900</td>\n",
       "      <td>12.803638</td>\n",
       "      <td>0.353816</td>\n",
       "      <td>0.059976</td>\n",
       "      <td>141.000899</td>\n",
       "      <td>1546</td>\n",
       "      <td>16</td>\n",
       "      <td>Fruits and Vegetables</td>\n",
       "    </tr>\n",
       "    <tr>\n",
       "      <td>DRA12OUT027</td>\n",
       "      <td>12.792854</td>\n",
       "      <td>0</td>\n",
       "      <td>0.040748</td>\n",
       "      <td>Soft Drinks</td>\n",
       "      <td>140.0154</td>\n",
       "      <td>OUT027</td>\n",
       "      <td>1985</td>\n",
       "      <td>Medium</td>\n",
       "      <td>Tier 3</td>\n",
       "      <td>Supermarket Type3</td>\n",
       "      <td>...</td>\n",
       "      <td>0</td>\n",
       "      <td>0.0</td>\n",
       "      <td>31.2900</td>\n",
       "      <td>12.792854</td>\n",
       "      <td>0.353432</td>\n",
       "      <td>0.060344</td>\n",
       "      <td>141.012347</td>\n",
       "      <td>1559</td>\n",
       "      <td>16</td>\n",
       "      <td>Fruits and Vegetables</td>\n",
       "    </tr>\n",
       "  </tbody>\n",
       "</table>\n",
       "<p>5 rows × 37 columns</p>\n",
       "</div>"
      ],
      "text/plain": [
       "             Item_Weight  Item_Fat_Content  Item_Visibility    Item_Type  \\\n",
       "id                                                                         \n",
       "DRA12OUT010    11.600000                 0         0.068535  Soft Drinks   \n",
       "DRA12OUT013    11.600000                 0         0.040912  Soft Drinks   \n",
       "DRA12OUT017    11.600000                 0         0.041178  Soft Drinks   \n",
       "DRA12OUT018    11.600000                 0         0.041113  Soft Drinks   \n",
       "DRA12OUT027    12.792854                 0         0.040748  Soft Drinks   \n",
       "\n",
       "             Item_MRP Outlet_Identifier  outlet.Outlet_Establishment_Year  \\\n",
       "id                                                                          \n",
       "DRA12OUT010  143.0154            OUT010                              1998   \n",
       "DRA12OUT013  142.3154            OUT013                              1987   \n",
       "DRA12OUT017  140.3154            OUT017                              2007   \n",
       "DRA12OUT018  142.0154            OUT018                              2009   \n",
       "DRA12OUT027  140.0154            OUT027                              1985   \n",
       "\n",
       "            outlet.Outlet_Size outlet.Outlet_Location_Type outlet.Outlet_Type  \\\n",
       "id                                                                              \n",
       "DRA12OUT010            missing                      Tier 3      Grocery Store   \n",
       "DRA12OUT013               High                      Tier 3  Supermarket Type1   \n",
       "DRA12OUT017            missing                      Tier 2  Supermarket Type1   \n",
       "DRA12OUT018             Medium                      Tier 3  Supermarket Type2   \n",
       "DRA12OUT027             Medium                      Tier 3  Supermarket Type3   \n",
       "\n",
       "             ...  outlet.MIN(bigmart.Item_Fat_Content)  \\\n",
       "id           ...                                         \n",
       "DRA12OUT010  ...                                     0   \n",
       "DRA12OUT013  ...                                     0   \n",
       "DRA12OUT017  ...                                     0   \n",
       "DRA12OUT018  ...                                     0   \n",
       "DRA12OUT027  ...                                     0   \n",
       "\n",
       "             outlet.MIN(bigmart.Item_Visibility)  \\\n",
       "id                                                 \n",
       "DRA12OUT010                                  0.0   \n",
       "DRA12OUT013                                  0.0   \n",
       "DRA12OUT017                                  0.0   \n",
       "DRA12OUT018                                  0.0   \n",
       "DRA12OUT027                                  0.0   \n",
       "\n",
       "             outlet.MIN(bigmart.Item_MRP)  outlet.MEAN(bigmart.Item_Weight)  \\\n",
       "id                                                                            \n",
       "DRA12OUT010                       32.6558                         12.722870   \n",
       "DRA12OUT013                       31.4900                         12.788139   \n",
       "DRA12OUT017                       32.0900                         12.782080   \n",
       "DRA12OUT018                       31.8900                         12.803638   \n",
       "DRA12OUT027                       31.2900                         12.792854   \n",
       "\n",
       "             outlet.MEAN(bigmart.Item_Fat_Content)  \\\n",
       "id                                                   \n",
       "DRA12OUT010                               0.356757   \n",
       "DRA12OUT013                               0.353509   \n",
       "DRA12OUT017                               0.352560   \n",
       "DRA12OUT018                               0.353816   \n",
       "DRA12OUT027                               0.353432   \n",
       "\n",
       "             outlet.MEAN(bigmart.Item_Visibility)  \\\n",
       "id                                                  \n",
       "DRA12OUT010                              0.101939   \n",
       "DRA12OUT013                              0.060242   \n",
       "DRA12OUT017                              0.061142   \n",
       "DRA12OUT018                              0.059976   \n",
       "DRA12OUT027                              0.060344   \n",
       "\n",
       "             outlet.MEAN(bigmart.Item_MRP)  outlet.COUNT(bigmart)  \\\n",
       "id                                                                  \n",
       "DRA12OUT010                     141.159742                    925   \n",
       "DRA12OUT013                     141.128428                   1553   \n",
       "DRA12OUT017                     140.998931                   1543   \n",
       "DRA12OUT018                     141.000899                   1546   \n",
       "DRA12OUT027                     141.012347                   1559   \n",
       "\n",
       "             outlet.NUM_UNIQUE(bigmart.Item_Type)  \\\n",
       "id                                                  \n",
       "DRA12OUT010                                    16   \n",
       "DRA12OUT013                                    16   \n",
       "DRA12OUT017                                    16   \n",
       "DRA12OUT018                                    16   \n",
       "DRA12OUT027                                    16   \n",
       "\n",
       "             outlet.MODE(bigmart.Item_Type)  \n",
       "id                                           \n",
       "DRA12OUT010           Fruits and Vegetables  \n",
       "DRA12OUT013           Fruits and Vegetables  \n",
       "DRA12OUT017                     Snack Foods  \n",
       "DRA12OUT018           Fruits and Vegetables  \n",
       "DRA12OUT027           Fruits and Vegetables  \n",
       "\n",
       "[5 rows x 37 columns]"
      ]
     },
     "execution_count": 22,
     "metadata": {},
     "output_type": "execute_result"
    }
   ],
   "source": [
    "feature_matrix.head()"
   ]
  },
  {
   "cell_type": "code",
   "execution_count": 23,
   "metadata": {},
   "outputs": [],
   "source": [
    "feature_matrix=feature_matrix.reindex(index=combi['id'])\n",
    "feature_matrix=feature_matrix.reset_index()"
   ]
  },
  {
   "cell_type": "code",
   "execution_count": 24,
   "metadata": {},
   "outputs": [],
   "source": [
    "#now into model building and testing\n",
    "\n",
    "from catboost import CatBoostRegressor"
   ]
  },
  {
   "cell_type": "code",
   "execution_count": 26,
   "metadata": {},
   "outputs": [],
   "source": [
    "categorical_features=np.where(feature_matrix.dtypes == 'object')[0]\n",
    "\n",
    "for i in categorical_features:\n",
    "    feature_matrix.iloc[:,i]=feature_matrix.iloc[:,i].astype('str')"
   ]
  },
  {
   "cell_type": "code",
   "execution_count": 27,
   "metadata": {},
   "outputs": [],
   "source": [
    "feature_matrix.drop(['id'],axis=1,inplace=True)\n",
    "\n",
    "train=feature_matrix[:8523]\n",
    "test=feature_matrix[8523:]"
   ]
  },
  {
   "cell_type": "code",
   "execution_count": 28,
   "metadata": {},
   "outputs": [],
   "source": [
    "train.drop(['Outlet_Identifier'],axis=1,inplace=True)\n",
    "test.drop(['Outlet_Identifier'],axis=1,inplace=True)"
   ]
  },
  {
   "cell_type": "code",
   "execution_count": 29,
   "metadata": {},
   "outputs": [],
   "source": [
    "categorical_features=np.where(train.dtypes=='object')[0]"
   ]
  },
  {
   "cell_type": "code",
   "execution_count": 30,
   "metadata": {},
   "outputs": [],
   "source": [
    "#here we now split the train data \n",
    "\n",
    "from sklearn.model_selection import train_test_split\n",
    "\n",
    "xtrain,xvalid,ytrain,yvalid=train_test_split(train,sales,test_size=0.25,random_state=11)"
   ]
  },
  {
   "cell_type": "code",
   "execution_count": 32,
   "metadata": {},
   "outputs": [
    {
     "name": "stderr",
     "output_type": "stream",
     "text": [
      "You should provide test set for use best model. use_best_model parameter swiched to false value.\n"
     ]
    },
    {
     "name": "stdout",
     "output_type": "stream",
     "text": [
      "0:\tlearn: 2133.7136483\ttotal: 153ms\tremaining: 15.2s\n",
      "1:\tlearn: 1695.0942350\ttotal: 224ms\tremaining: 11s\n",
      "2:\tlearn: 1436.4124328\ttotal: 286ms\tremaining: 9.25s\n",
      "3:\tlearn: 1270.3166166\ttotal: 338ms\tremaining: 8.11s\n",
      "4:\tlearn: 1177.4997780\ttotal: 396ms\tremaining: 7.52s\n",
      "5:\tlearn: 1126.0729289\ttotal: 452ms\tremaining: 7.08s\n",
      "6:\tlearn: 1102.1684501\ttotal: 487ms\tremaining: 6.47s\n",
      "7:\tlearn: 1087.2534720\ttotal: 536ms\tremaining: 6.17s\n",
      "8:\tlearn: 1079.2502819\ttotal: 581ms\tremaining: 5.88s\n",
      "9:\tlearn: 1074.6337098\ttotal: 640ms\tremaining: 5.76s\n",
      "10:\tlearn: 1071.4046295\ttotal: 684ms\tremaining: 5.53s\n",
      "11:\tlearn: 1069.4368347\ttotal: 745ms\tremaining: 5.46s\n",
      "12:\tlearn: 1069.1625432\ttotal: 785ms\tremaining: 5.25s\n",
      "13:\tlearn: 1067.6957846\ttotal: 911ms\tremaining: 5.6s\n",
      "14:\tlearn: 1067.4406361\ttotal: 970ms\tremaining: 5.5s\n",
      "15:\tlearn: 1066.9816381\ttotal: 1.02s\tremaining: 5.34s\n",
      "16:\tlearn: 1064.9973104\ttotal: 1.06s\tremaining: 5.2s\n",
      "17:\tlearn: 1063.0762860\ttotal: 1.12s\tremaining: 5.11s\n",
      "18:\tlearn: 1063.0552578\ttotal: 1.15s\tremaining: 4.88s\n",
      "19:\tlearn: 1063.0323759\ttotal: 1.18s\tremaining: 4.71s\n",
      "20:\tlearn: 1063.0259899\ttotal: 1.21s\tremaining: 4.54s\n",
      "21:\tlearn: 1061.7388714\ttotal: 1.26s\tremaining: 4.46s\n",
      "22:\tlearn: 1061.7108267\ttotal: 1.28s\tremaining: 4.3s\n",
      "23:\tlearn: 1061.2794235\ttotal: 1.33s\tremaining: 4.23s\n",
      "24:\tlearn: 1060.9977535\ttotal: 1.37s\tremaining: 4.1s\n",
      "25:\tlearn: 1060.5577572\ttotal: 1.42s\tremaining: 4.04s\n",
      "26:\tlearn: 1060.4996496\ttotal: 1.45s\tremaining: 3.92s\n",
      "27:\tlearn: 1060.4996474\ttotal: 1.47s\tremaining: 3.79s\n",
      "28:\tlearn: 1060.0556194\ttotal: 1.51s\tremaining: 3.71s\n",
      "29:\tlearn: 1059.5358099\ttotal: 1.55s\tremaining: 3.62s\n",
      "30:\tlearn: 1059.3535688\ttotal: 1.59s\tremaining: 3.55s\n",
      "31:\tlearn: 1059.2294315\ttotal: 1.64s\tremaining: 3.49s\n",
      "32:\tlearn: 1057.3034244\ttotal: 1.69s\tremaining: 3.43s\n",
      "33:\tlearn: 1056.7058750\ttotal: 1.74s\tremaining: 3.38s\n",
      "34:\tlearn: 1056.4158669\ttotal: 1.81s\tremaining: 3.36s\n",
      "35:\tlearn: 1055.7420821\ttotal: 1.88s\tremaining: 3.34s\n",
      "36:\tlearn: 1055.4437185\ttotal: 1.93s\tremaining: 3.28s\n",
      "37:\tlearn: 1053.9418934\ttotal: 2s\tremaining: 3.25s\n",
      "38:\tlearn: 1053.9374255\ttotal: 2.04s\tremaining: 3.18s\n",
      "39:\tlearn: 1053.5725981\ttotal: 2.1s\tremaining: 3.15s\n",
      "40:\tlearn: 1052.7789908\ttotal: 2.17s\tremaining: 3.12s\n",
      "41:\tlearn: 1052.3985205\ttotal: 2.24s\tremaining: 3.09s\n",
      "42:\tlearn: 1051.9961627\ttotal: 2.3s\tremaining: 3.05s\n",
      "43:\tlearn: 1051.5287094\ttotal: 2.39s\tremaining: 3.04s\n",
      "44:\tlearn: 1049.5672556\ttotal: 2.48s\tremaining: 3.04s\n",
      "45:\tlearn: 1049.2364204\ttotal: 2.55s\tremaining: 3s\n",
      "46:\tlearn: 1049.1758119\ttotal: 2.61s\tremaining: 2.94s\n",
      "47:\tlearn: 1048.9136317\ttotal: 2.69s\tremaining: 2.91s\n",
      "48:\tlearn: 1048.8720538\ttotal: 2.75s\tremaining: 2.86s\n",
      "49:\tlearn: 1048.5309757\ttotal: 2.82s\tremaining: 2.82s\n",
      "50:\tlearn: 1048.2030159\ttotal: 2.88s\tremaining: 2.77s\n",
      "51:\tlearn: 1045.8080214\ttotal: 2.96s\tremaining: 2.73s\n",
      "52:\tlearn: 1045.1378140\ttotal: 3.02s\tremaining: 2.68s\n",
      "53:\tlearn: 1044.9285589\ttotal: 3.1s\tremaining: 2.64s\n",
      "54:\tlearn: 1044.5342605\ttotal: 3.16s\tremaining: 2.58s\n",
      "55:\tlearn: 1044.4878839\ttotal: 3.23s\tremaining: 2.54s\n",
      "56:\tlearn: 1044.2089077\ttotal: 3.3s\tremaining: 2.49s\n",
      "57:\tlearn: 1043.6736646\ttotal: 3.38s\tremaining: 2.45s\n",
      "58:\tlearn: 1043.1957013\ttotal: 3.44s\tremaining: 2.39s\n",
      "59:\tlearn: 1043.1333205\ttotal: 3.52s\tremaining: 2.35s\n",
      "60:\tlearn: 1043.0063261\ttotal: 3.57s\tremaining: 2.29s\n",
      "61:\tlearn: 1042.8616615\ttotal: 3.66s\tremaining: 2.24s\n",
      "62:\tlearn: 1041.6902369\ttotal: 3.73s\tremaining: 2.19s\n",
      "63:\tlearn: 1041.5983868\ttotal: 3.81s\tremaining: 2.14s\n",
      "64:\tlearn: 1040.4279883\ttotal: 3.88s\tremaining: 2.09s\n",
      "65:\tlearn: 1040.1311599\ttotal: 3.96s\tremaining: 2.04s\n",
      "66:\tlearn: 1039.3955791\ttotal: 4.03s\tremaining: 1.99s\n",
      "67:\tlearn: 1039.3932255\ttotal: 4.08s\tremaining: 1.92s\n",
      "68:\tlearn: 1038.9964040\ttotal: 4.14s\tremaining: 1.86s\n",
      "69:\tlearn: 1038.2824195\ttotal: 4.22s\tremaining: 1.81s\n",
      "70:\tlearn: 1037.8659283\ttotal: 4.29s\tremaining: 1.75s\n",
      "71:\tlearn: 1037.0485107\ttotal: 4.36s\tremaining: 1.7s\n",
      "72:\tlearn: 1036.9956377\ttotal: 4.43s\tremaining: 1.64s\n",
      "73:\tlearn: 1036.6295367\ttotal: 4.5s\tremaining: 1.58s\n",
      "74:\tlearn: 1035.2792071\ttotal: 4.58s\tremaining: 1.53s\n",
      "75:\tlearn: 1034.0296387\ttotal: 4.65s\tremaining: 1.47s\n",
      "76:\tlearn: 1033.6417454\ttotal: 4.72s\tremaining: 1.41s\n",
      "77:\tlearn: 1033.4622969\ttotal: 4.79s\tremaining: 1.35s\n",
      "78:\tlearn: 1032.8207102\ttotal: 4.88s\tremaining: 1.3s\n",
      "79:\tlearn: 1032.6877352\ttotal: 4.94s\tremaining: 1.23s\n",
      "80:\tlearn: 1031.6041730\ttotal: 5.02s\tremaining: 1.18s\n",
      "81:\tlearn: 1031.0674112\ttotal: 5.09s\tremaining: 1.12s\n",
      "82:\tlearn: 1031.0639081\ttotal: 5.13s\tremaining: 1.05s\n",
      "83:\tlearn: 1030.6202484\ttotal: 5.2s\tremaining: 990ms\n",
      "84:\tlearn: 1030.5063467\ttotal: 5.26s\tremaining: 928ms\n",
      "85:\tlearn: 1030.4584082\ttotal: 5.33s\tremaining: 867ms\n",
      "86:\tlearn: 1030.2632947\ttotal: 5.39s\tremaining: 805ms\n",
      "87:\tlearn: 1028.8689251\ttotal: 5.46s\tremaining: 744ms\n",
      "88:\tlearn: 1027.9905350\ttotal: 5.52s\tremaining: 682ms\n",
      "89:\tlearn: 1027.8960273\ttotal: 5.59s\tremaining: 621ms\n",
      "90:\tlearn: 1026.7340644\ttotal: 5.65s\tremaining: 559ms\n",
      "91:\tlearn: 1025.4632158\ttotal: 5.72s\tremaining: 497ms\n",
      "92:\tlearn: 1025.1559907\ttotal: 5.78s\tremaining: 435ms\n",
      "93:\tlearn: 1025.1393448\ttotal: 5.81s\tremaining: 371ms\n",
      "94:\tlearn: 1024.7258542\ttotal: 5.87s\tremaining: 309ms\n",
      "95:\tlearn: 1024.0220397\ttotal: 5.93s\tremaining: 247ms\n",
      "96:\tlearn: 1023.3225091\ttotal: 6s\tremaining: 186ms\n",
      "97:\tlearn: 1023.1274318\ttotal: 6.06s\tremaining: 124ms\n",
      "98:\tlearn: 1022.6414013\ttotal: 6.13s\tremaining: 61.9ms\n",
      "99:\tlearn: 1022.5926103\ttotal: 6.19s\tremaining: 0us\n"
     ]
    },
    {
     "data": {
      "text/plain": [
       "<catboost.core.CatBoostRegressor at 0x158f4a22108>"
      ]
     },
     "execution_count": 32,
     "metadata": {},
     "output_type": "execute_result"
    }
   ],
   "source": [
    "#TRAIN THE MODEL USING RMSE-Root Mean Squared Error\n",
    "\n",
    "model_here=CatBoostRegressor(iterations=100,learning_rate=0.3,depth=6,eval_metric='RMSE',random_seed=7)\n",
    "\n",
    "model_here.fit(xtrain,ytrain,cat_features=categorical_features,use_best_model=True)"
   ]
  },
  {
   "cell_type": "code",
   "execution_count": 33,
   "metadata": {},
   "outputs": [
    {
     "data": {
      "text/plain": [
       "1092.201745531876"
      ]
     },
     "execution_count": 33,
     "metadata": {},
     "output_type": "execute_result"
    }
   ],
   "source": [
    "model_here.score(xvalid,yvalid)"
   ]
  },
  {
   "cell_type": "code",
   "execution_count": null,
   "metadata": {},
   "outputs": [],
   "source": []
  }
 ],
 "metadata": {
  "kernelspec": {
   "display_name": "Python 3",
   "language": "python",
   "name": "python3"
  },
  "language_info": {
   "codemirror_mode": {
    "name": "ipython",
    "version": 3
   },
   "file_extension": ".py",
   "mimetype": "text/x-python",
   "name": "python",
   "nbconvert_exporter": "python",
   "pygments_lexer": "ipython3",
   "version": "3.7.4"
  }
 },
 "nbformat": 4,
 "nbformat_minor": 2
}
